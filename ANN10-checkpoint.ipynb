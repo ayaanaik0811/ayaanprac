{
 "cells": [
  {
   "cell_type": "code",
   "execution_count": 4,
   "metadata": {
    "colab": {
     "base_uri": "https://localhost:8080/",
     "height": 1000,
     "output_embedded_package_id": "1J8TOYkUttsCzZ41JTUTPDHXc1HEWTo0o"
    },
    "executionInfo": {
     "elapsed": 4719,
     "status": "ok",
     "timestamp": 1745122661934,
     "user": {
      "displayName": "Atharva Velhankar",
      "userId": "17301380298137335909"
     },
     "user_tz": -330
    },
    "id": "HkfGeH-t6tfn",
    "outputId": "66be598a-b86a-4d3b-b4b5-3f6b7ded049a"
   },
   "outputs": [
    {
     "ename": "ModuleNotFoundError",
     "evalue": "No module named 'torch'",
     "output_type": "error",
     "traceback": [
      "\u001b[1;31m---------------------------------------------------------------------------\u001b[0m",
      "\u001b[1;31mModuleNotFoundError\u001b[0m                       Traceback (most recent call last)",
      "Cell \u001b[1;32mIn[4], line 2\u001b[0m\n\u001b[0;32m      1\u001b[0m \u001b[38;5;66;03m# Import necessary libraries\u001b[39;00m\n\u001b[1;32m----> 2\u001b[0m \u001b[38;5;28;01mimport\u001b[39;00m \u001b[38;5;21;01mtorch\u001b[39;00m\n\u001b[0;32m      3\u001b[0m \u001b[38;5;28;01mimport\u001b[39;00m \u001b[38;5;21;01mnumpy\u001b[39;00m \u001b[38;5;28;01mas\u001b[39;00m \u001b[38;5;21;01mnp\u001b[39;00m\n\u001b[0;32m      4\u001b[0m \u001b[38;5;28;01mimport\u001b[39;00m \u001b[38;5;21;01mos\u001b[39;00m\n",
      "\u001b[1;31mModuleNotFoundError\u001b[0m: No module named 'torch'"
     ]
    }
   ],
   "source": [
    "\n",
    "# Import necessary libraries\n",
    "import torch\n",
    "import numpy as np\n",
    "import os\n",
    "from PIL import Image, ImageDraw, ImageFont\n",
    "import matplotlib.pyplot as plt\n",
    "\n",
    "# Load pre-trained YOLOv5 model from Ultralytics repository\n",
    "model = torch.hub.load('ultralytics/yolov5', 'yolov5s', trust_repo=True)\n",
    "model.conf = 0.25  # Set the minimum confidence threshold for predictions\n",
    "\n",
    "def detect_objects(image_path):\n",
    "    \"\"\"Detect objects in an image using YOLOv5.\"\"\"\n",
    "    \n",
    "    # Check if the provided image path exists\n",
    "    if not os.path.exists(image_path):\n",
    "        print(f\"Error: Image '{image_path}' not found.\")\n",
    "        return None\n",
    "\n",
    "    # Open the image and ensure it is in RGB format\n",
    "    image = Image.open(image_path).convert(\"RGB\")\n",
    "    \n",
    "    # Perform object detection using the model\n",
    "    results = model(image)\n",
    "    results.show()  # Display the image with bounding boxes\n",
    "\n",
    "    # Extract detections as a pandas DataFrame (xyxy format: xmin, ymin, xmax, ymax, confidence, class, name)\n",
    "    detections = results.pandas().xyxy[0]\n",
    "    \n",
    "    # If no objects are detected, inform the user\n",
    "    if detections.empty:\n",
    "        print(\"No objects detected.\")\n",
    "        return None\n",
    "\n",
    "    return detections\n",
    "\n",
    "def plot_detections(image_path, detections):\n",
    "    \"\"\"Plot detected objects on the image with bounding boxes and labels.\"\"\"\n",
    "    \n",
    "    # If there are no detections, do not plot\n",
    "    if detections is None:\n",
    "        print(\"No objects to plot.\")\n",
    "        return\n",
    "\n",
    "    # Open the original image\n",
    "    image = Image.open(image_path).convert(\"RGB\")\n",
    "    draw = ImageDraw.Draw(image)  # Create a drawing context\n",
    "    font = ImageFont.load_default()  # Load default font for labels\n",
    "\n",
    "    # Iterate over each detection\n",
    "    for _, row in detections.iterrows():\n",
    "        # Extract bounding box coordinates and label\n",
    "        x1, y1, x2, y2 = int(row['xmin']), int(row['ymin']), int(row['xmax']), int(row['ymax'])\n",
    "        label = f\"{row['name']} ({row['confidence']:.2f})\"  # Create label with class name and confidence\n",
    "        \n",
    "        # Draw rectangle around the object\n",
    "        draw.rectangle([x1, y1, x2, y2], outline=\"green\", width=2)\n",
    "        # Draw label text above the rectangle\n",
    "        draw.text((x1, max(y1 - 10, 0)), label, fill=\"green\", font=font)\n",
    "\n",
    "    # Display the final image with detections\n",
    "    plt.imshow(image)\n",
    "    plt.axis(\"off\")  # Hide axes\n",
    "    plt.show()\n",
    "\n",
    "if __name__ == \"__main__\":\n",
    "    # Define the image path (make sure this image exists)\n",
    "    image_path = \"image.jpg\"\n",
    "    \n",
    "    # Detect objects in the image\n",
    "    detections = detect_objects(image_path)\n",
    "    \n",
    "    # If detections are found, print them and plot on the image\n",
    "    if detections is not None:\n",
    "        print(detections)\n",
    "        plot_detections(image_path, detections)"
   ]
  },
  {
   "cell_type": "code",
   "execution_count": null,
   "metadata": {},
   "outputs": [],
   "source": []
  }
 ],
 "metadata": {
  "accelerator": "GPU",
  "colab": {
   "authorship_tag": "ABX9TyOq9ZmlhcHIjo1lsH8kt4IC",
   "gpuType": "T4",
   "mount_file_id": "1DBu34khzHW-guW7ikQQJ1IiTfgDlkaVJ",
   "provenance": []
  },
  "kernelspec": {
   "display_name": "Python 3 (ipykernel)",
   "language": "python",
   "name": "python3"
  },
  "language_info": {
   "codemirror_mode": {
    "name": "ipython",
    "version": 3
   },
   "file_extension": ".py",
   "mimetype": "text/x-python",
   "name": "python",
   "nbconvert_exporter": "python",
   "pygments_lexer": "ipython3",
   "version": "3.12.7"
  }
 },
 "nbformat": 4,
 "nbformat_minor": 4
}
