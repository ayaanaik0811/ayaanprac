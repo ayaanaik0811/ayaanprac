{
 "cells": [
  {
   "cell_type": "code",
   "execution_count": 56,
   "id": "30489e12-502e-48de-bae2-2884f0cf3c45",
   "metadata": {},
   "outputs": [
    {
     "name": "stderr",
     "output_type": "stream",
     "text": [
      "[nltk_data] Downloading package punkt_tab to\n",
      "[nltk_data]     C:\\Users\\Ayaan\\AppData\\Roaming\\nltk_data...\n",
      "[nltk_data]   Package punkt_tab is already up-to-date!\n",
      "[nltk_data] Downloading package stopwords to\n",
      "[nltk_data]     C:\\Users\\Ayaan\\AppData\\Roaming\\nltk_data...\n",
      "[nltk_data]   Package stopwords is already up-to-date!\n",
      "[nltk_data] Downloading package wordnet to\n",
      "[nltk_data]     C:\\Users\\Ayaan\\AppData\\Roaming\\nltk_data...\n",
      "[nltk_data]   Package wordnet is already up-to-date!\n",
      "[nltk_data] Downloading package averaged_perceptron_tagger_eng to\n",
      "[nltk_data]     C:\\Users\\Ayaan\\AppData\\Roaming\\nltk_data...\n",
      "[nltk_data]   Package averaged_perceptron_tagger_eng is already up-to-\n",
      "[nltk_data]       date!\n"
     ]
    },
    {
     "data": {
      "text/plain": [
       "True"
      ]
     },
     "execution_count": 56,
     "metadata": {},
     "output_type": "execute_result"
    }
   ],
   "source": [
    "import nltk\n",
    "import string\n",
    "import pandas as pd\n",
    "from nltk import word_tokenize\n",
    "from nltk.corpus import stopwords\n",
    "from nltk.stem import PorterStemmer, WordNetLemmatizer\n",
    "from nltk import pos_tag\n",
    "from sklearn.feature_extraction.text import TfidfVectorizer\n",
    "\n",
    "# Download necessary NLTK resources\n",
    "nltk.download('punkt_tab')\n",
    "nltk.download('stopwords')\n",
    "nltk.download('wordnet')\n",
    "nltk.download('averaged_perceptron_tagger_eng')"
   ]
  },
  {
   "cell_type": "code",
   "execution_count": 57,
   "id": "6ddf194d-46db-4b31-b3da-d5b11e4d29b3",
   "metadata": {},
   "outputs": [
    {
     "name": "stdout",
     "output_type": "stream",
     "text": [
      "Natural Language Processing (NLP) is a field of AI that enables computers to understand human language.\n",
      "It involves text processing techniques like tokenization, stemming, and lemmatization.\n",
      "\n",
      "\n",
      "['Natural Language Processing (NLP) is a field of AI that enables computers to understand human language.', 'It involves text processing techniques like tokenization, stemming, and lemmatization.']\n",
      "\n",
      "\n",
      "['Natural', 'Language', 'Processing', '(', 'NLP', ')', 'is', 'a', 'field', 'of', 'AI', 'that', 'enables', 'computers', 'to', 'understand', 'human', 'language', '.', 'It', 'involves', 'text', 'processing', 'techniques', 'like', 'tokenization', ',', 'stemming', ',', 'and', 'lemmatization', '.']\n"
     ]
    }
   ],
   "source": [
    "file = open(\"C:/Users/Ayaan/Downloads/Text.txt\",'r')\n",
    "text = \"\"\"Natural Language Processing (NLP) is a field of AI that enables computers to understand human language.\n",
    "It involves text processing techniques like tokenization, stemming, and lemmatization.\"\"\"\n",
    "\n",
    "print(text)\n",
    "print('\\n')\n",
    "\n",
    "tokens_sent = nltk.sent_tokenize(text)\n",
    "print(tokens_sent)\n",
    "print('\\n')\n",
    "\n",
    "tokens_words = nltk.word_tokenize(text)\n",
    "print(tokens_words)"
   ]
  },
  {
   "cell_type": "code",
   "execution_count": 58,
   "id": "d8fce60a-f746-4061-a95a-7a313f305c12",
   "metadata": {},
   "outputs": [
    {
     "name": "stdout",
     "output_type": "stream",
     "text": [
      "[('Natural', 'JJ'), ('Language', 'NNP'), ('Processing', 'NNP'), ('(', '('), ('NLP', 'NNP'), (')', ')'), ('is', 'VBZ'), ('a', 'DT'), ('field', 'NN'), ('of', 'IN'), ('AI', 'NNP'), ('that', 'WDT'), ('enables', 'VBZ'), ('computers', 'NNS'), ('to', 'TO'), ('understand', 'VB'), ('human', 'JJ'), ('language', 'NN'), ('.', '.'), ('It', 'PRP'), ('involves', 'VBZ'), ('text', 'JJ'), ('processing', 'VBG'), ('techniques', 'NNS'), ('like', 'IN'), ('tokenization', 'NN'), (',', ','), ('stemming', 'VBG'), (',', ','), ('and', 'CC'), ('lemmatization', 'NN'), ('.', '.')]\n"
     ]
    }
   ],
   "source": [
    "tagged = pos_tag(tokens_words)\n",
    "print(tagged)"
   ]
  },
  {
   "cell_type": "code",
   "execution_count": 59,
   "id": "b8ccd551-65fa-4cd7-b638-03442f3f1207",
   "metadata": {},
   "outputs": [
    {
     "name": "stdout",
     "output_type": "stream",
     "text": [
      "Filtered Tokens (Stopwords Removed): ['Natural', 'Language', 'Processing', 'NLP', 'field', 'AI', 'enables', 'computers', 'understand', 'human', 'language', 'involves', 'text', 'processing', 'techniques', 'like', 'tokenization', 'stemming', 'lemmatization']\n"
     ]
    }
   ],
   "source": [
    "stop_words = set(stopwords.words('english'))\n",
    "filtered_tokens = [word for word in tokens_words if word.lower() not in stop_words and word not in string.punctuation]\n",
    "print(\"Filtered Tokens (Stopwords Removed):\", filtered_tokens)"
   ]
  },
  {
   "cell_type": "code",
   "execution_count": 60,
   "id": "ff936e46-82d6-4d42-a260-38e8fcabcf3e",
   "metadata": {},
   "outputs": [
    {
     "name": "stdout",
     "output_type": "stream",
     "text": [
      "Stemmed Tokens: ['natur', 'languag', 'process', 'nlp', 'field', 'ai', 'enabl', 'comput', 'understand', 'human', 'languag', 'involv', 'text', 'process', 'techniqu', 'like', 'token', 'stem', 'lemmat']\n"
     ]
    }
   ],
   "source": [
    "stemmer = PorterStemmer()\n",
    "stemmed_tokens = [stemmer.stem(word) for word in filtered_tokens]\n",
    "print(\"Stemmed Tokens:\", stemmed_tokens)"
   ]
  },
  {
   "cell_type": "code",
   "execution_count": 61,
   "id": "31881d72-d641-4e4c-9146-c16416619e35",
   "metadata": {},
   "outputs": [
    {
     "name": "stdout",
     "output_type": "stream",
     "text": [
      "Lemmatized Tokens: ['Natural', 'Language', 'Processing', 'NLP', 'field', 'AI', 'enables', 'computer', 'understand', 'human', 'language', 'involves', 'text', 'processing', 'technique', 'like', 'tokenization', 'stemming', 'lemmatization']\n"
     ]
    }
   ],
   "source": [
    "lemmatizer = WordNetLemmatizer()\n",
    "lemmatized_tokens = [lemmatizer.lemmatize(word) for word in filtered_tokens]\n",
    "print(\"Lemmatized Tokens:\", lemmatized_tokens)"
   ]
  },
  {
   "cell_type": "code",
   "execution_count": 62,
   "id": "aa77375a-7aea-4a59-989b-725fce689a24",
   "metadata": {},
   "outputs": [
    {
     "name": "stdout",
     "output_type": "stream",
     "text": [
      "\n",
      "TF-IDF Representation:\n",
      "          ai       and  computers   enables     field     human  involves  \\\n",
      "0  0.246136  0.000000   0.246136  0.246136  0.246136  0.246136  0.000000   \n",
      "1  0.000000  0.324336   0.000000  0.000000  0.000000  0.000000  0.324336   \n",
      "\n",
      "         is        it  language  ...       nlp        of  processing  \\\n",
      "0  0.246136  0.000000  0.492273  ...  0.246136  0.246136    0.175128   \n",
      "1  0.000000  0.324336  0.000000  ...  0.000000  0.000000    0.230768   \n",
      "\n",
      "   stemming  techniques      text      that        to  tokenization  \\\n",
      "0  0.000000    0.000000  0.000000  0.246136  0.246136      0.000000   \n",
      "1  0.324336    0.324336  0.324336  0.000000  0.000000      0.324336   \n",
      "\n",
      "   understand  \n",
      "0    0.246136  \n",
      "1    0.000000  \n",
      "\n",
      "[2 rows x 23 columns]\n"
     ]
    }
   ],
   "source": [
    "vectorizer = TfidfVectorizer()\n",
    "tfidf_matrix = vectorizer.fit_transform(tokens_sent)\n",
    "\n",
    "# Convert TF-IDF matrix to DataFrame for better visualization\n",
    "df_tfidf = pd.DataFrame(tfidf_matrix.toarray(), columns=vectorizer.get_feature_names_out())\n",
    "print(\"\\nTF-IDF Representation:\\n\", df_tfidf)"
   ]
  },
  {
   "cell_type": "code",
   "execution_count": null,
   "id": "c25ba9e1-324c-485f-93e1-72c39230c900",
   "metadata": {},
   "outputs": [],
   "source": []
  }
 ],
 "metadata": {
  "kernelspec": {
   "display_name": "Python 3 (ipykernel)",
   "language": "python",
   "name": "python3"
  },
  "language_info": {
   "codemirror_mode": {
    "name": "ipython",
    "version": 3
   },
   "file_extension": ".py",
   "mimetype": "text/x-python",
   "name": "python",
   "nbconvert_exporter": "python",
   "pygments_lexer": "ipython3",
   "version": "3.12.7"
  }
 },
 "nbformat": 4,
 "nbformat_minor": 5
}
